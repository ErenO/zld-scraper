{
 "cells": [
  {
   "cell_type": "code",
   "execution_count": 1,
   "metadata": {},
   "outputs": [],
   "source": [
    "import os\n",
    "import sys"
   ]
  },
  {
   "cell_type": "code",
   "execution_count": 2,
   "metadata": {},
   "outputs": [
    {
     "name": "stdout",
     "output_type": "stream",
     "text": [
      "DataGenerator.py  \u001b[0m\u001b[01;34mlogs\u001b[0m/                Untitled1.ipynb\r\n",
      "\u001b[01;34mdataset\u001b[0m/          \u001b[01;34m__pycache__\u001b[0m/         Untitled.ipynb\r\n",
      "\u001b[01;35mimg0.jpg\u001b[0m          scrap-zalando.ipynb  zld_train.ipynb\r\n"
     ]
    }
   ],
   "source": [
    "ls"
   ]
  },
  {
   "cell_type": "code",
   "execution_count": 3,
   "metadata": {},
   "outputs": [],
   "source": [
    "mkdir dataset/train"
   ]
  },
  {
   "cell_type": "code",
   "execution_count": 4,
   "metadata": {},
   "outputs": [],
   "source": [
    "mkdir dataset/test"
   ]
  },
  {
   "cell_type": "code",
   "execution_count": 5,
   "metadata": {},
   "outputs": [
    {
     "name": "stdout",
     "output_type": "stream",
     "text": [
      "\u001b[0m\u001b[01;34mmanteaux\u001b[0m/  \u001b[01;34mpull\u001b[0m/  \u001b[01;34msweatshirts\u001b[0m/  \u001b[01;34mtest\u001b[0m/  \u001b[01;34mtrain\u001b[0m/  \u001b[01;34mt-shirts\u001b[0m/  \u001b[01;34mveste\u001b[0m/\r\n"
     ]
    }
   ],
   "source": [
    "ls dataset"
   ]
  },
  {
   "cell_type": "code",
   "execution_count": 6,
   "metadata": {},
   "outputs": [],
   "source": [
    "classes = ['manteaux', 'sweatshirts', 't-shirts', 'veste', 'pull', 'pantalons', 'jeans']"
   ]
  },
  {
   "cell_type": "code",
   "execution_count": 7,
   "metadata": {},
   "outputs": [],
   "source": [
    "for cls in classes:\n",
    "    os.makedirs('dataset/train/' + cls)\n",
    "    os.makedirs('dataset/test/' + cls)"
   ]
  },
  {
   "cell_type": "code",
   "execution_count": 8,
   "metadata": {},
   "outputs": [
    {
     "name": "stdout",
     "output_type": "stream",
     "text": [
      "\u001b[0m\u001b[01;34mmanteaux\u001b[0m/  \u001b[01;34mpull\u001b[0m/  \u001b[01;34msweatshirts\u001b[0m/  \u001b[01;34mt-shirts\u001b[0m/  \u001b[01;34mveste\u001b[0m/\r\n"
     ]
    }
   ],
   "source": [
    "ls dataset/train/"
   ]
  },
  {
   "cell_type": "code",
   "execution_count": 11,
   "metadata": {},
   "outputs": [],
   "source": [
    "for cls in classes:\n",
    "    lst = os.listdir('dataset/' + cls)\n",
    "    for ind, file in enumerate(lst):\n",
    "        if ind % 5 != 0:\n",
    "            os.rename('dataset/' + cls + '/' + file, 'dataset/train/' + cls + '/' + file)\n",
    "        else:\n",
    "            os.rename('dataset/' + cls + '/' + file, 'dataset/test/' + cls + '/' + file)"
   ]
  },
  {
   "cell_type": "code",
   "execution_count": 12,
   "metadata": {},
   "outputs": [
    {
     "name": "stdout",
     "output_type": "stream",
     "text": [
      "[]\n"
     ]
    }
   ],
   "source": [
    "# print (os.listdir('dataset/manteaux'))"
   ]
  },
  {
   "cell_type": "code",
   "execution_count": null,
   "metadata": {},
   "outputs": [],
   "source": []
  }
 ],
 "metadata": {
  "kernelspec": {
   "display_name": "Python 3",
   "language": "python",
   "name": "python3"
  },
  "language_info": {
   "codemirror_mode": {
    "name": "ipython",
    "version": 3
   },
   "file_extension": ".py",
   "mimetype": "text/x-python",
   "name": "python",
   "nbconvert_exporter": "python",
   "pygments_lexer": "ipython3",
   "version": "3.6.8"
  }
 },
 "nbformat": 4,
 "nbformat_minor": 2
}
